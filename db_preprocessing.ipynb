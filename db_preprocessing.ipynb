{
 "cells": [
  {
   "cell_type": "markdown",
   "metadata": {
    "collapsed": false
   },
   "source": [
    "# Preprocesamiento de la base de datos del clima.\n",
    "\n",
    "Se mantendrán solo 5 de los 11 climas, el criterio de selección es personal.\n",
    "La base de datos original se puede acceder desde aqui [Weather image recognition](https://www.kaggle.com/jehanbhathena/weather-dataset?select=dataset).\n",
    "\n",
    "Los climas utilizados son:\n",
    "[hail, lighting, rain, sandstorm, snow]"
   ]
  },
  {
   "cell_type": "markdown",
   "metadata": {
    "collapsed": false
   },
   "source": [
    "## Librerias\n",
    "\n",
    "Se importarán las librerias pertinentes para realizar la limpieza y visualización de los datos\n",
    "\n",
    "- **Numpy**: Librería para manejo de datos y arreglos númericos.\n",
    "- **Pandas**: Creación de los DataFrame y mejor manejo de los datos.\n",
    "- **Matplotlib**: Creación de los gráficos y las figuras para visualización de los datos."
   ]
  },
  {
   "cell_type": "code",
   "execution_count": null,
   "metadata": {},
   "outputs": [],
   "source": [
    "!pip install numpy\n",
    "!pip install pandas\n",
    "!pip install matplotlib"
   ]
  },
  {
   "cell_type": "code",
   "execution_count": 1,
   "metadata": {
    "collapsed": false,
    "pycharm": {
     "name": "#%%\n"
    }
   },
   "outputs": [],
   "source": [
    "# Importamos las librerias principales\n",
    "import numpy as np\n",
    "import pandas as pd\n",
    "import matplotlib.pyplot as plt\n",
    "import os\n",
    "\n",
    "# Obtenemos el Sistema operativo y definimos el separador de directorios\n",
    "OS = os.environ.get('OS')\n",
    "if OS == 'Windows_NT':\n",
    "    SEPARATOR = '\\\\'\n",
    "else:\n",
    "    SEPARATOR = '/'\n",
    "\n",
    "%matplotlib inline"
   ]
  },
  {
   "cell_type": "markdown",
   "metadata": {},
   "source": [
    "## Carga del dataset\n",
    "\n",
    "Al tener imagenes, la base de datos constará únicamente por el nombre del clima, la ubicación y la cantidad de imagenes."
   ]
  },
  {
   "cell_type": "code",
   "execution_count": 2,
   "metadata": {},
   "outputs": [
    {
     "data": {
      "text/html": [
       "<div>\n",
       "<style scoped>\n",
       "    .dataframe tbody tr th:only-of-type {\n",
       "        vertical-align: middle;\n",
       "    }\n",
       "\n",
       "    .dataframe tbody tr th {\n",
       "        vertical-align: top;\n",
       "    }\n",
       "\n",
       "    .dataframe thead th {\n",
       "        text-align: right;\n",
       "    }\n",
       "</style>\n",
       "<table border=\"1\" class=\"dataframe\">\n",
       "  <thead>\n",
       "    <tr style=\"text-align: right;\">\n",
       "      <th></th>\n",
       "      <th>weather</th>\n",
       "      <th>num_images</th>\n",
       "      <th>path</th>\n",
       "    </tr>\n",
       "  </thead>\n",
       "  <tbody>\n",
       "    <tr>\n",
       "      <th>0</th>\n",
       "      <td>hail</td>\n",
       "      <td>592</td>\n",
       "      <td>D:\\Programación\\IA center_proyectofinal\\weathe...</td>\n",
       "    </tr>\n",
       "    <tr>\n",
       "      <th>1</th>\n",
       "      <td>lightning</td>\n",
       "      <td>378</td>\n",
       "      <td>D:\\Programación\\IA center_proyectofinal\\weathe...</td>\n",
       "    </tr>\n",
       "    <tr>\n",
       "      <th>2</th>\n",
       "      <td>rain</td>\n",
       "      <td>527</td>\n",
       "      <td>D:\\Programación\\IA center_proyectofinal\\weathe...</td>\n",
       "    </tr>\n",
       "    <tr>\n",
       "      <th>3</th>\n",
       "      <td>sandstorm</td>\n",
       "      <td>692</td>\n",
       "      <td>D:\\Programación\\IA center_proyectofinal\\weathe...</td>\n",
       "    </tr>\n",
       "    <tr>\n",
       "      <th>4</th>\n",
       "      <td>snow</td>\n",
       "      <td>621</td>\n",
       "      <td>D:\\Programación\\IA center_proyectofinal\\weathe...</td>\n",
       "    </tr>\n",
       "  </tbody>\n",
       "</table>\n",
       "</div>"
      ],
      "text/plain": [
       "     weather  num_images                                               path\n",
       "0       hail         592  D:\\Programación\\IA center_proyectofinal\\weathe...\n",
       "1  lightning         378  D:\\Programación\\IA center_proyectofinal\\weathe...\n",
       "2       rain         527  D:\\Programación\\IA center_proyectofinal\\weathe...\n",
       "3  sandstorm         692  D:\\Programación\\IA center_proyectofinal\\weathe...\n",
       "4       snow         621  D:\\Programación\\IA center_proyectofinal\\weathe..."
      ]
     },
     "execution_count": 2,
     "metadata": {},
     "output_type": "execute_result"
    }
   ],
   "source": [
    "# Función para filtrar los climas de la base de datos\n",
    "def load_data(path: str, desired_weather:list=None) -> pd.DataFrame:\n",
    "    \"\"\"\n",
    "    Función para cargar los datos de la base de datos.\n",
    "    param: path: str, ruta de la base de datos.\n",
    "    param: desired_weather: list, lista de los climas que se quieren cargar.\n",
    "    return: df: pd.DataFrame, dataframe con los datos de la base de datos.\n",
    "    \"\"\"\n",
    "    # Asignamos en memoria las variables que contendrán las rutas, nombres y cantidad de imagenes por clima.\n",
    "    paths = []\n",
    "    weather_name = []\n",
    "    num_images = []\n",
    "    # Obtenemos la ruta completa para evitar algún problema.\n",
    "    full_path = os.path.realpath(path)\n",
    "\n",
    "    # Recorremos todos los directorios de la base de datos.\n",
    "    for root, dirs, _ in os.walk(full_path):\n",
    "        for dir in dirs:\n",
    "            # Si el clima se encuentra en la lista se almacena.\n",
    "            if dir in desired_weather:\n",
    "\n",
    "                paths.append(os.path.join(root, dir))\n",
    "                weather_name.append(dir)\n",
    "                num_images.append(len(os.listdir(os.path.join(root, dir))))\n",
    "\n",
    "            # Si no se da una lista de climas deseados, se cargarán todos.\n",
    "            elif desired_weather is None:\n",
    "                paths.append(os.path.join(root, dir))\n",
    "                weather_name.append(dir)\n",
    "                num_images.append(len(os.listdir(os.path.join(root, dir))))\n",
    "\n",
    "    # Se crea un DataFrame que contiene los datos obtenidos.\n",
    "    df = pd.DataFrame({'weather': weather_name, 'num_images': num_images, 'path': paths})\n",
    "    return df\n",
    "\n",
    "\n",
    "# Definimos la ruta de la base de datos y los climas que queremos cargar\n",
    "db_path = 'dataset/'\n",
    "desired_weather = ['hail', 'lightning', 'rain', 'sandstorm', 'snow']\n",
    "\n",
    "# Obtenemos los datos y mostramos una población del Dataframe.\n",
    "df = load_data(db_path, desired_weather)\n",
    "df.head(10)"
   ]
  },
  {
   "cell_type": "markdown",
   "metadata": {},
   "source": [
    "Es necesario tener 300 imagenes minimo por clima para entrenar de mejor manera y tener una cantidad decente de muestras para validación y testeo.\n",
    "\n",
    "Se crea una columna por clima para ver si les hace falta imagenes o no."
   ]
  },
  {
   "cell_type": "code",
   "execution_count": 3,
   "metadata": {},
   "outputs": [
    {
     "data": {
      "text/html": [
       "<div>\n",
       "<style scoped>\n",
       "    .dataframe tbody tr th:only-of-type {\n",
       "        vertical-align: middle;\n",
       "    }\n",
       "\n",
       "    .dataframe tbody tr th {\n",
       "        vertical-align: top;\n",
       "    }\n",
       "\n",
       "    .dataframe thead th {\n",
       "        text-align: right;\n",
       "    }\n",
       "</style>\n",
       "<table border=\"1\" class=\"dataframe\">\n",
       "  <thead>\n",
       "    <tr style=\"text-align: right;\">\n",
       "      <th></th>\n",
       "      <th>weather</th>\n",
       "      <th>num_images</th>\n",
       "      <th>num_images_needed</th>\n",
       "    </tr>\n",
       "  </thead>\n",
       "  <tbody>\n",
       "    <tr>\n",
       "      <th>0</th>\n",
       "      <td>hail</td>\n",
       "      <td>592</td>\n",
       "      <td>-292.0</td>\n",
       "    </tr>\n",
       "    <tr>\n",
       "      <th>1</th>\n",
       "      <td>lightning</td>\n",
       "      <td>378</td>\n",
       "      <td>-78.0</td>\n",
       "    </tr>\n",
       "    <tr>\n",
       "      <th>2</th>\n",
       "      <td>rain</td>\n",
       "      <td>527</td>\n",
       "      <td>-227.0</td>\n",
       "    </tr>\n",
       "    <tr>\n",
       "      <th>3</th>\n",
       "      <td>sandstorm</td>\n",
       "      <td>692</td>\n",
       "      <td>-392.0</td>\n",
       "    </tr>\n",
       "    <tr>\n",
       "      <th>4</th>\n",
       "      <td>snow</td>\n",
       "      <td>621</td>\n",
       "      <td>-321.0</td>\n",
       "    </tr>\n",
       "  </tbody>\n",
       "</table>\n",
       "</div>"
      ],
      "text/plain": [
       "     weather  num_images  num_images_needed\n",
       "0       hail         592             -292.0\n",
       "1  lightning         378              -78.0\n",
       "2       rain         527             -227.0\n",
       "3  sandstorm         692             -392.0\n",
       "4       snow         621             -321.0"
      ]
     },
     "execution_count": 3,
     "metadata": {},
     "output_type": "execute_result"
    }
   ],
   "source": [
    "# Obtenemos las filas para añadir la cantidad de imagenes restantes.\n",
    "TOTAL_IMAGES = 300\n",
    "filas, columnas = df.shape\n",
    "\n",
    "data_frame_copy = df.copy()\n",
    "\n",
    "for i in range(filas):\n",
    "    # Creamos una columna con las imagenes necesarias para tener las 300 imagenes.\n",
    "    data_frame_copy.loc[i, 'num_images_needed'] = int(TOTAL_IMAGES - data_frame_copy.loc[i, 'num_images'])\n",
    "\n",
    "data_frame_copy.drop(columns=['path'], inplace=True)\n",
    "data_frame_copy.head(10)"
   ]
  },
  {
   "cell_type": "markdown",
   "metadata": {},
   "source": [
    "Se puede observar que todas las clases cumplen con el minimo de imagenes deseada (300), sin embargo, se puede observar un desbalanceo de clases que pudiera a llevar un peor aprendizaje de los climas con menos muestras. Esto afecta mas fuertemente a **lightning** y en menor medida a **rain**.\n",
    "\n",
    "-----------------------------------------\n",
    "-----------------------------------------\n",
    "\n",
    "## Preprocesamiento de las imagenes\n",
    "\n",
    "Se llevará a cabo un preprocesamiento de las imagenes para que todas cuenten con las mismas características. \n",
    "Las imagenes se normalizarán con las siguientes características: (64,64,3).\n",
    "\n",
    "Para esta etapa se utilizarán las siguientes librerias:\n",
    "\n",
    "- **TensorFlow**: Creación del pipeline de entrenamiento y la creación y entrenamiento del modelo.\n",
    "- **Scikit-Learn**: Dividir la base de datos y aleatorizar los conjuntos de entrenamiento, pruebas y validación. \n",
    "- **Skimage**: Cargar las imagenes y normalizar el tamaño.\n",
    "- **Joblib**: Almacenamiento de la base de datos en memoria."
   ]
  },
  {
   "cell_type": "code",
   "execution_count": 24,
   "metadata": {},
   "outputs": [],
   "source": [
    "import tensorflow as tf\n",
    "from tensorflow.keras.preprocessing.image import ImageDataGenerator\n",
    "from tensorflow.keras.preprocessing.image import load_img\n",
    "from tensorflow.keras import layers\n",
    "\n",
    "from sklearn.model_selection import train_test_split\n",
    "from skimage.io import imread\n",
    "from skimage.transform import resize\n",
    "\n",
    "import joblib"
   ]
  },
  {
   "cell_type": "markdown",
   "metadata": {},
   "source": [
    "Se obtendrán todas las imagenes de la base de datos y se almacenaran en arreglos."
   ]
  },
  {
   "cell_type": "code",
   "execution_count": 26,
   "metadata": {},
   "outputs": [
    {
     "name": "stdout",
     "output_type": "stream",
     "text": [
      "========================\n",
      "dataset\n",
      "========================\n",
      "dew\n",
      "========================\n",
      "fogsmog\n",
      "========================\n",
      "frost\n",
      "========================\n",
      "glaze\n",
      "========================\n",
      "hail\n",
      "========================\n",
      "lightning\n",
      "========================\n",
      "rain\n",
      "========================\n",
      "rainbow\n",
      "========================\n",
      "rime\n",
      "========================\n",
      "sandstorm\n",
      "========================\n",
      "snow\n"
     ]
    }
   ],
   "source": [
    "def load_images(path: str, desired_weather: str) -> np.array:\n",
    "\n",
    "    \"\"\"\n",
    "    Función para cargar las imagenes de un clima.\n",
    "    \"\"\" \n",
    "    # Obtenemos la ruta completa para evitar algún problema.\n",
    "    full_path = os.path.realpath(path)\n",
    "\n",
    "    # Creamos una lista para almacenar las imagenes.\n",
    "    X = []\n",
    "    y = []\n",
    "\n",
    "    # Recorremos todos los directorios de la base de datos.\n",
    "    for root, dirs, files in os.walk(full_path):\n",
    "        weather_name = root.split(SEPARATOR)[-1]\n",
    "        # Obntenemos el nombre del clima\n",
    "        print('========================')\n",
    "        print(weather_name)\n",
    "        if weather_name in desired_weather:\n",
    "            for file in files:\n",
    "\n",
    "                image_path = os.path.join(root, file)\n",
    "                image = imread(image_path)\n",
    "                image = resize(image, (64, 64, 3))\n",
    "\n",
    "                X.append(image)\n",
    "                y.append(weather_name)\n",
    "\n",
    "                '''\n",
    "                # Recorremos todas las imagenes del clima.\n",
    "                for image in os.listdir(os.path.join(root, dir)):\n",
    "                    # Cargamos la imagen.\n",
    "                    img = load_img(os.path.join(root, dir, image))\n",
    "                    # Convertimos la imagen a un array.\n",
    "                    img = np.array(img)\n",
    "                    # Añadimos la imagen a la lista.\n",
    "                    images.append(img)\n",
    "                '''\n",
    "            \n",
    "    return np.array(X), y\n",
    "\n",
    "# Obtenemos la base de datos con las clases deseadas.\n",
    "X, y = load_images(db_path, desired_weather)\n"
   ]
  },
  {
   "cell_type": "code",
   "execution_count": 31,
   "metadata": {},
   "outputs": [
    {
     "name": "stdout",
     "output_type": "stream",
     "text": [
      "(2810, 64, 64, 3)\n",
      "['hail' 'lightning' 'rain' 'sandstorm' 'snow']\n",
      "2810\n"
     ]
    },
    {
     "data": {
      "text/plain": [
       "['y.joblib']"
      ]
     },
     "execution_count": 31,
     "metadata": {},
     "output_type": "execute_result"
    }
   ],
   "source": [
    "# Observamos que X tenga la dimensión esperada y que y contenga las clases esperadas y la misma cantidad de datos que X\n",
    "print(X.shape)\n",
    "print(np.unique(y))\n",
    "print(len(y))\n",
    "\n",
    "# Se almacenan los datos en un archivo para no tener que volver a cargarlos.\n",
    "joblib.dump(X, 'X.joblib')\n",
    "joblib.dump(y, 'y.joblib')"
   ]
  },
  {
   "cell_type": "markdown",
   "metadata": {},
   "source": [
    "Obtenemos el conjunto de entrenamiento, pruebas y validación.\n",
    "\n",
    "Se checa el tamaño del entrenamiento para ver que si sean mas de 200 imagenes."
   ]
  },
  {
   "cell_type": "code",
   "execution_count": 41,
   "metadata": {},
   "outputs": [
    {
     "name": "stdout",
     "output_type": "stream",
     "text": [
      "El tamaño de entrenamiento de la clase \"lightning es de:  305\n"
     ]
    }
   ],
   "source": [
    "X_train, X_test, y_train, y_test = train_test_split(X, y, test_size=0.2, random_state=614)\n",
    "# Checamos que la clase 'lightning tenga el minimo requerido\n",
    "lightning_size = len([i for i in y_train if i == 'lightning'])\n",
    "print('El tamaño de entrenamiento de la clase \"lightning es de: ', lightning_size)\n"
   ]
  },
  {
   "cell_type": "code",
   "execution_count": null,
   "metadata": {},
   "outputs": [],
   "source": [
    "# Checamos que "
   ]
  }
 ],
 "metadata": {
  "kernelspec": {
   "display_name": "Python 3",
   "language": "python",
   "name": "python3"
  },
  "language_info": {
   "codemirror_mode": {
    "name": "ipython",
    "version": 3
   },
   "file_extension": ".py",
   "mimetype": "text/x-python",
   "name": "python",
   "nbconvert_exporter": "python",
   "pygments_lexer": "ipython3",
   "version": "3.8.5"
  }
 },
 "nbformat": 4,
 "nbformat_minor": 0
}
